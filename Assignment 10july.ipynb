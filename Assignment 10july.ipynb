{
 "cells": [
  {
   "cell_type": "code",
   "execution_count": 9,
   "metadata": {},
   "outputs": [
    {
     "name": "stdout",
     "output_type": "stream",
     "text": [
      "1 8 15 27 50 92 169 311 572 1052 1935 "
     ]
    }
   ],
   "source": [
    "a=1 \n",
    "b=3\n",
    "c=4 \n",
    "n=10\n",
    "print(a,end=\" \")\n",
    "for i in range(0,n):\n",
    "    sum=a+b+c\n",
    "    print(sum,end=\" \")\n",
    "    a=b\n",
    "    b=c\n",
    "    c=sum"
   ]
  },
  {
   "cell_type": "code",
   "execution_count": 8,
   "metadata": {},
   "outputs": [
    {
     "name": "stdout",
     "output_type": "stream",
     "text": [
      "abcxyz\n"
     ]
    }
   ],
   "source": [
    "# program to remove spaces fron a string\n",
    "def remove(n): \n",
    "    n=string.replace(\" \", \"\")\n",
    "    return n \n",
    "string = 'abc xyz '\n",
    "print(remove(string)) \n"
   ]
  },
  {
   "cell_type": "code",
   "execution_count": 7,
   "metadata": {},
   "outputs": [
    {
     "name": "stdout",
     "output_type": "stream",
     "text": [
      "1 !+2 !+3 !+4 !+5 !+6 !+7 !+8 !+9 !+"
     ]
    }
   ],
   "source": [
    "def factorialadd(n):\n",
    "    for i in range(1,n):\n",
    "        print(i,\"!+\",end=\"\")\n",
    "    return\n",
    "n=10\n",
    "factorialadd(n)"
   ]
  },
  {
   "cell_type": "code",
   "execution_count": 6,
   "metadata": {},
   "outputs": [
    {
     "name": "stdout",
     "output_type": "stream",
     "text": [
      "1 2 4 8 16 32 64 128 256 512 "
     ]
    }
   ],
   "source": [
    "def pattren(n):\n",
    "    for i in range(0,10):\n",
    "        print(n**i,end=\" \")\n",
    "    return\n",
    "pattren(2)"
   ]
  },
  {
   "cell_type": "code",
   "execution_count": 5,
   "metadata": {},
   "outputs": [
    {
     "name": "stdout",
     "output_type": "stream",
     "text": [
      "1 2 4 8 "
     ]
    }
   ],
   "source": [
    "#Series Generations:-  1, 3, 9, 27, 81, ...\n",
    "def pattren(n):\n",
    "    for i in range(0,n**n):\n",
    "        print(n**i,end=\" \")\n",
    "    return\n",
    "pattren(2)"
   ]
  },
  {
   "cell_type": "code",
   "execution_count": 4,
   "metadata": {},
   "outputs": [
    {
     "name": "stdout",
     "output_type": "stream",
     "text": [
      "******\n",
      "\n",
      "*\n",
      "**\n",
      "***\n"
     ]
    }
   ],
   "source": [
    "def pattern(n):\n",
    "    for i in n:\n",
    "        print('*'*int(i))\n",
    "    return\n",
    "n=\"60123\"\n",
    "pattern(n)"
   ]
  },
  {
   "cell_type": "code",
   "execution_count": 3,
   "metadata": {},
   "outputs": [
    {
     "name": "stdout",
     "output_type": "stream",
     "text": [
      "0\n"
     ]
    }
   ],
   "source": [
    "\t\n",
    "# Python3 Find the sum of all non-repeated \n",
    "# elements in an array \n",
    "def findSum(arr, n): \n",
    "    s=arr\n",
    "    arr.sort() \n",
    "    sum = 0\n",
    "    for i in range(0,n-1): \n",
    "        if arr[i] not in li: \n",
    "            sum = sum + arr[i] \n",
    "    return sum\n",
    "arr= [1,2,3,2,5]\n",
    "li=[1,2,3,4,5]\n",
    "n = len(arr) \n",
    "print(findSum(arr, n)) "
   ]
  },
  {
   "cell_type": "code",
   "execution_count": 2,
   "metadata": {},
   "outputs": [
    {
     "name": "stdout",
     "output_type": "stream",
     "text": [
      "89 55 34 21 13 8 5 3 2 1 1 0 "
     ]
    }
   ],
   "source": [
    "def reverseFibonacci(f): # assignment 1\n",
    "    a = [0] * f  \n",
    "    a[0] = 0\n",
    "    a[1] = 1\n",
    "    for i in range(2, f): \n",
    "        a[i] = a[i - 2] + a[i - 1] \n",
    "    for i in range(f - 1, -1 , -1):  \n",
    "        print(a[i],end=\" \") \n",
    "f = 12\n",
    "reverseFibonacci(f) \n"
   ]
  },
  {
   "cell_type": "code",
   "execution_count": null,
   "metadata": {},
   "outputs": [],
   "source": []
  }
 ],
 "metadata": {
  "kernelspec": {
   "display_name": "Python 3",
   "language": "python",
   "name": "python3"
  },
  "language_info": {
   "codemirror_mode": {
    "name": "ipython",
    "version": 3
   },
   "file_extension": ".py",
   "mimetype": "text/x-python",
   "name": "python",
   "nbconvert_exporter": "python",
   "pygments_lexer": "ipython3",
   "version": "3.7.3"
  }
 },
 "nbformat": 4,
 "nbformat_minor": 2
}
